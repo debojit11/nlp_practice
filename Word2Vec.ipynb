{
 "cells": [
  {
   "cell_type": "code",
   "execution_count": 1,
   "id": "9d3b2062-41ac-4b9e-909e-a8467ac29a4d",
   "metadata": {},
   "outputs": [],
   "source": [
    "import spacy\n",
    "nlp = spacy.load(\"en_core_web_lg\")"
   ]
  },
  {
   "cell_type": "code",
   "execution_count": 3,
   "id": "ad6379fc-93c1-42b4-8cbd-35ce81723541",
   "metadata": {},
   "outputs": [
    {
     "name": "stdout",
     "output_type": "stream",
     "text": [
      "dog  |  Vector: True  |  OOV: False\n",
      "cat  |  Vector: True  |  OOV: False\n",
      "banana  |  Vector: True  |  OOV: False\n",
      "dasdfda  |  Vector: False  |  OOV: True\n"
     ]
    }
   ],
   "source": [
    "doc = nlp(\"dog cat banana dasdfda\")\n",
    "\n",
    "for token in doc:\n",
    "    print(token.text, \" | \", \"Vector:\", token.has_vector, \" | \", \"OOV:\", token.is_oov)"
   ]
  },
  {
   "cell_type": "code",
   "execution_count": 5,
   "id": "c9da3d82-1fdf-4c71-b4cb-9d8c393e7b49",
   "metadata": {},
   "outputs": [
    {
     "data": {
      "text/plain": [
       "(300,)"
      ]
     },
     "execution_count": 5,
     "metadata": {},
     "output_type": "execute_result"
    }
   ],
   "source": [
    "doc[0].vector.shape"
   ]
  },
  {
   "cell_type": "code",
   "execution_count": 6,
   "id": "fddbb3ed-7aec-4554-a7b2-30e6d8ea1a8c",
   "metadata": {},
   "outputs": [
    {
     "data": {
      "text/plain": [
       "(300,)"
      ]
     },
     "execution_count": 6,
     "metadata": {},
     "output_type": "execute_result"
    }
   ],
   "source": [
    "base_token = nlp(\"bread\")\n",
    "base_token.vector.shape"
   ]
  },
  {
   "cell_type": "code",
   "execution_count": 7,
   "id": "259a902f-8c90-4d57-a6fe-9a7a0e8a0d2a",
   "metadata": {},
   "outputs": [
    {
     "name": "stdout",
     "output_type": "stream",
     "text": [
      "bread <-> bread 1.0\n",
      "sandwich <-> bread 0.6874560117721558\n",
      "burger <-> bread 0.544037401676178\n",
      "car <-> bread 0.16441147029399872\n",
      "tiger <-> bread 0.14492356777191162\n",
      "human <-> bread 0.21103660762310028\n",
      "wheat <-> bread 0.6572456359863281\n"
     ]
    }
   ],
   "source": [
    "doc = nlp(\"bread sandwich burger car tiger human wheat\")\n",
    "\n",
    "for token in doc:\n",
    "    print(f\"{token.text} <-> {base_token.text} {token.similarity(base_token)}\")"
   ]
  },
  {
   "cell_type": "code",
   "execution_count": 9,
   "id": "2e6b7587-7988-4535-a59c-f1fb05488723",
   "metadata": {},
   "outputs": [],
   "source": [
    "def print_similarity(base_word, words_to_compare):\n",
    "    base_token= nlp(base_word)\n",
    "    doc = nlp(words_to_compare)\n",
    "    for token in doc:\n",
    "        print(f\"{token.text} <-> {base_token.text} {token.similarity(base_token)}\")"
   ]
  },
  {
   "cell_type": "code",
   "execution_count": 10,
   "id": "81ef25af-8824-47b8-ad8a-5549f135b438",
   "metadata": {},
   "outputs": [
    {
     "name": "stdout",
     "output_type": "stream",
     "text": [
      "apple <-> iphone 0.6339781284332275\n",
      "samsung <-> iphone 0.6678677797317505\n",
      "iphone <-> iphone 1.0\n",
      "dog <-> iphone 0.1743103712797165\n",
      "kitten <-> iphone 0.1468581259250641\n"
     ]
    }
   ],
   "source": [
    "print_similarity(\"iphone\", \"apple samsung iphone dog kitten\")"
   ]
  },
  {
   "cell_type": "code",
   "execution_count": 11,
   "id": "9e7fc2ea-cdee-4153-849f-020fb114e7d5",
   "metadata": {},
   "outputs": [],
   "source": [
    "king= nlp.vocab['king'].vector\n",
    "man = nlp.vocab['man'].vector\n",
    "woman = nlp.vocab['woman'].vector\n",
    "queen = nlp.vocab['queen'].vector\n",
    "\n",
    "result = king - man + woman"
   ]
  },
  {
   "cell_type": "code",
   "execution_count": 12,
   "id": "6287e396-9f52-4cfc-8c58-5d8ac438b955",
   "metadata": {},
   "outputs": [],
   "source": [
    "from sklearn.metrics.pairwise import cosine_similarity"
   ]
  },
  {
   "cell_type": "code",
   "execution_count": 13,
   "id": "0af76efc-5489-48e7-be30-7782cf6eabdb",
   "metadata": {},
   "outputs": [
    {
     "data": {
      "text/plain": [
       "array([[0.78808445]], dtype=float32)"
      ]
     },
     "execution_count": 13,
     "metadata": {},
     "output_type": "execute_result"
    }
   ],
   "source": [
    "cosine_similarity([result], [queen])"
   ]
  }
 ],
 "metadata": {
  "kernelspec": {
   "display_name": "Python 3 (ipykernel)",
   "language": "python",
   "name": "python3"
  },
  "language_info": {
   "codemirror_mode": {
    "name": "ipython",
    "version": 3
   },
   "file_extension": ".py",
   "mimetype": "text/x-python",
   "name": "python",
   "nbconvert_exporter": "python",
   "pygments_lexer": "ipython3",
   "version": "3.12.3"
  }
 },
 "nbformat": 4,
 "nbformat_minor": 5
}
