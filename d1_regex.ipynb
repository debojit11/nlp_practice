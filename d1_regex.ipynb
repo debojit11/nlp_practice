{
 "cells": [
  {
   "cell_type": "code",
   "execution_count": 1,
   "id": "0b33565d-e518-46b7-aace-2d9867ab034a",
   "metadata": {},
   "outputs": [],
   "source": [
    "import re"
   ]
  },
  {
   "cell_type": "code",
   "execution_count": 14,
   "id": "c67532e6-1c7c-4bb4-a479-abca98401381",
   "metadata": {},
   "outputs": [],
   "source": [
    "chat1 = 'codebasics: you ask lot of questions 😠  1235678912, abc@xyz.com, 9998881234'\n",
    "chat2 = 'codebasics: here it is: (123)-567-8912, abX_82@xyz.com'\n",
    "chat3 = 'codebasics: yes, phone: 1235678912 email: abc@xyz.com'"
   ]
  },
  {
   "cell_type": "code",
   "execution_count": 16,
   "id": "6c1ef87d-85ba-44f9-ac40-ffaef0a4a20b",
   "metadata": {},
   "outputs": [
    {
     "data": {
      "text/plain": [
       "['1235678912']"
      ]
     },
     "execution_count": 16,
     "metadata": {},
     "output_type": "execute_result"
    }
   ],
   "source": [
    "pattern = r'\\d{10}|\\(\\d{3}\\)-\\d{3}-\\d{4}'\n",
    "#pattern = r'\\d{10}'\n",
    "#pattern = r'\\(\\d{3}\\)-\\d{3}-\\d{4}'\n",
    "matches = re.findall(pattern, chat3)\n",
    "matches "
   ]
  },
  {
   "cell_type": "markdown",
   "id": "4824723f-a635-4381-9516-a24177b302bc",
   "metadata": {},
   "source": [
    "**chat2 doesn't work cause the commented pattern** doesnt match as it has brackets and hyphens and the pattern is only for continuous digits\n",
    "matches. \n",
    "But now it matches all the phone numbers in all 3 chats bcz we have provided **pattern for both continuous 10 digit and teh digits with \"(), -\" , the \" | \" used is OR in regex** so we are using both the continuous digit pattern and the bracket and hyphen digit pattern"
   ]
  },
  {
   "cell_type": "code",
   "execution_count": 20,
   "id": "3e319195-4b2f-4915-9bcb-fae540c78d71",
   "metadata": {},
   "outputs": [
    {
     "data": {
      "text/plain": [
       "['abX_82@xyz.com']"
      ]
     },
     "execution_count": 20,
     "metadata": {},
     "output_type": "execute_result"
    }
   ],
   "source": [
    "pattern2 = r\"[a-z0-9A-Z_]*@[a-z0-9A-Z]*\\.[a-z0-9A-Z]*\"\n",
    "\n",
    "email = re.findall(pattern2, chat2)\n",
    "email"
   ]
  },
  {
   "cell_type": "markdown",
   "id": "ae44eaf3-d7a0-4a3e-90a3-a9de9631c59e",
   "metadata": {},
   "source": [
    "**Note:** better to use **'+'** instead of **'*'** as **'*'** matches 0 or more occurrences (can be empty).\n",
    "          and **'+'** matches 1 or more occurrences (must have at least one character)."
   ]
  }
 ],
 "metadata": {
  "kernelspec": {
   "display_name": "Python 3 (ipykernel)",
   "language": "python",
   "name": "python3"
  },
  "language_info": {
   "codemirror_mode": {
    "name": "ipython",
    "version": 3
   },
   "file_extension": ".py",
   "mimetype": "text/x-python",
   "name": "python",
   "nbconvert_exporter": "python",
   "pygments_lexer": "ipython3",
   "version": "3.12.3"
  }
 },
 "nbformat": 4,
 "nbformat_minor": 5
}
