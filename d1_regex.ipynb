{
 "cells": [
  {
   "cell_type": "markdown",
   "id": "d565a1ee-6741-4458-9994-b1c61bfbdd29",
   "metadata": {},
   "source": [
    "# REGEX FOR NLP"
   ]
  },
  {
   "cell_type": "code",
   "execution_count": 1,
   "id": "0b33565d-e518-46b7-aace-2d9867ab034a",
   "metadata": {},
   "outputs": [],
   "source": [
    "import re"
   ]
  },
  {
   "cell_type": "code",
   "execution_count": 14,
   "id": "c67532e6-1c7c-4bb4-a479-abca98401381",
   "metadata": {},
   "outputs": [],
   "source": [
    "chat1 = 'codebasics: you ask lot of questions 😠  1235678912, abc@xyz.com, 9998881234'\n",
    "chat2 = 'codebasics: here it is: (123)-567-8912, abX_82@xyz.com'\n",
    "chat3 = 'codebasics: yes, phone: 1235678912 email: abc@xyz.com'"
   ]
  },
  {
   "cell_type": "code",
   "execution_count": 16,
   "id": "6c1ef87d-85ba-44f9-ac40-ffaef0a4a20b",
   "metadata": {},
   "outputs": [
    {
     "data": {
      "text/plain": [
       "['1235678912']"
      ]
     },
     "execution_count": 16,
     "metadata": {},
     "output_type": "execute_result"
    }
   ],
   "source": [
    "pattern = r'\\d{10}|\\(\\d{3}\\)-\\d{3}-\\d{4}'\n",
    "#pattern = r'\\d{10}'\n",
    "#pattern = r'\\(\\d{3}\\)-\\d{3}-\\d{4}'\n",
    "matches = re.findall(pattern, chat3)\n",
    "matches "
   ]
  },
  {
   "cell_type": "markdown",
   "id": "4824723f-a635-4381-9516-a24177b302bc",
   "metadata": {},
   "source": [
    "**chat2 doesn't work cause the commented pattern** doesnt match as it has brackets and hyphens and the pattern is only for continuous digits\n",
    "matches. \n",
    "But now it matches all the phone numbers in all 3 chats bcz we have provided **pattern for both continuous 10 digit and teh digits with \"(), -\" , the \" | \" used is OR in regex** so we are using both the continuous digit pattern and the bracket and hyphen digit pattern"
   ]
  },
  {
   "cell_type": "code",
   "execution_count": 20,
   "id": "3e319195-4b2f-4915-9bcb-fae540c78d71",
   "metadata": {},
   "outputs": [
    {
     "data": {
      "text/plain": [
       "['abX_82@xyz.com']"
      ]
     },
     "execution_count": 20,
     "metadata": {},
     "output_type": "execute_result"
    }
   ],
   "source": [
    "pattern2 = r\"[a-z0-9A-Z_]*@[a-z0-9A-Z]*\\.[a-z0-9A-Z]*\"\n",
    "\n",
    "email = re.findall(pattern2, chat2)\n",
    "email"
   ]
  },
  {
   "cell_type": "markdown",
   "id": "ae44eaf3-d7a0-4a3e-90a3-a9de9631c59e",
   "metadata": {},
   "source": [
    "**Note:** better to use **'+'** instead of **'*'** as **'*'** matches 0 or more occurrences (can be empty).\n",
    "          and **'+'** matches 1 or more occurrences (must have at least one character)."
   ]
  },
  {
   "cell_type": "code",
   "execution_count": 2,
   "id": "01e11c2f-c577-4486-a7ed-17ddcb2b84e3",
   "metadata": {},
   "outputs": [],
   "source": [
    "chat4='codebasics: Hello, I am having an issue with my order # 412889912'\n",
    "chat5='codebasics: I have a problem with my order number 412889912'\n",
    "chat6='codebasics: My order 412889912 is having an issue, I was charged 300$ when online it says 280$'"
   ]
  },
  {
   "cell_type": "code",
   "execution_count": 5,
   "id": "23f90eba-8a99-48c1-9224-ae76e3888573",
   "metadata": {},
   "outputs": [
    {
     "data": {
      "text/plain": [
       "['412889912']"
      ]
     },
     "execution_count": 5,
     "metadata": {},
     "output_type": "execute_result"
    }
   ],
   "source": [
    "pattern3 = r\"order[^\\d]*(\\d*)\"\n",
    "\n",
    "order= re.findall(pattern3, chat6)\n",
    "order"
   ]
  },
  {
   "cell_type": "markdown",
   "id": "15b97b2b-180c-4d93-bd10-a318dbeab4d9",
   "metadata": {},
   "source": [
    "in the above pattern , **order** basically matches the word order, **[^\\d]** with * is basically 1 or more character not in the range of digits.\n",
    "**(\\d)** with * is basically all digits continuing and the brackets making it a group  **(the whole pattern is match, inside () is a sub match)**."
   ]
  },
  {
   "cell_type": "code",
   "execution_count": 6,
   "id": "8787d422-5353-4a79-8748-97120f0cf4cc",
   "metadata": {},
   "outputs": [],
   "source": [
    "text='''\n",
    "Born\tElon Reeve Musk\n",
    "June 28, 1971 (age 50)\n",
    "Pretoria, Transvaal, South Africa\n",
    "Citizenship\t\n",
    "South Africa (1971–present)\n",
    "Canada (1971–present)\n",
    "United States (2002–present)\n",
    "Education\tUniversity of Pennsylvania (BS, BA)\n",
    "Title\t\n",
    "Founder, CEO and Chief Engineer of SpaceX\n",
    "CEO and product architect of Tesla, Inc.\n",
    "Founder of The Boring Company and X.com (now part of PayPal)\n",
    "Co-founder of Neuralink, OpenAI, and Zip2\n",
    "Spouse(s)\t\n",
    "Justine Wilson\n",
    "​\n",
    "​(m. 2000; div. 2008)​\n",
    "Talulah Riley\n",
    "​\n",
    "​(m. 2010; div. 2012)​\n",
    "​\n",
    "​(m. 2013; div. 2016)\n",
    "'''"
   ]
  },
  {
   "cell_type": "code",
   "execution_count": 7,
   "id": "96478ef2-34f0-4f4d-a305-c07cc4f68e12",
   "metadata": {},
   "outputs": [
    {
     "data": {
      "text/plain": [
       "['50']"
      ]
     },
     "execution_count": 7,
     "metadata": {},
     "output_type": "execute_result"
    }
   ],
   "source": [
    "pattern4 = r\"age (\\d+)\"\n",
    "\n",
    "age = re.findall(pattern4, text)\n",
    "age"
   ]
  },
  {
   "cell_type": "markdown",
   "id": "b971ad20-3d00-4ebe-83f9-e04f0ff63d54",
   "metadata": {},
   "source": [
    "In pattern4, **age** basically matches the word age considering it is a format same across all and **(\\d+)** part with a space between age and \n",
    "2nd part basically looks for the digits with **()** making the digit a group , **the whole pattern now just gives us the age(i.e. digits)**"
   ]
  },
  {
   "cell_type": "code",
   "execution_count": 11,
   "id": "ece5d04e-5a7f-40ef-b70b-0f499bacbda5",
   "metadata": {},
   "outputs": [
    {
     "data": {
      "text/plain": [
       "'Elon Reeve Musk'"
      ]
     },
     "execution_count": 11,
     "metadata": {},
     "output_type": "execute_result"
    }
   ],
   "source": [
    "pattern5 = r\"Born(.*)\"\n",
    "\n",
    "name = re.findall(pattern5, text)\n",
    "name[0].strip()"
   ]
  },
  {
   "cell_type": "markdown",
   "id": "2e463960-9ec6-4a70-a82b-1be49ceb8b76",
   "metadata": {},
   "source": [
    "In pattern5, **Born** matches the word Born and **(.*)** , here **.** matches any single character(here it is space) and \n",
    "**(*)** matches 0 or more of anything after **.** untill the new line. **()** make the name a group, then strip removes the\n",
    "space before the name as it matched both space and name after Born(e.g. - Born\tElon Reeve Musk)"
   ]
  },
  {
   "cell_type": "code",
   "execution_count": 13,
   "id": "5a3e45bc-8b27-485e-b5d7-89ca6533e881",
   "metadata": {},
   "outputs": [
    {
     "data": {
      "text/plain": [
       "'June 28, 1971'"
      ]
     },
     "execution_count": 13,
     "metadata": {},
     "output_type": "execute_result"
    }
   ],
   "source": [
    "pattern6 = r\"Born.*\\n(.*)\\(age\"\n",
    "\n",
    "dob = re.findall(pattern6, text)\n",
    "dob[0].strip()"
   ]
  },
  {
   "cell_type": "markdown",
   "id": "35a9d4ac-595b-4512-880f-19718c820385",
   "metadata": {},
   "source": [
    "In pattern6, upto **Born.*\\n** is same like above with the adiition of new line and removal of **()**. Then **(.*)\\(age** , here\n",
    "**(.*)** matches anything after the new line (**\\n**) and keeps going untill it finds **(age** and **()** make **(.*)** a group"
   ]
  },
  {
   "cell_type": "code",
   "execution_count": 14,
   "id": "25baab26-39ef-4a29-b71f-08e99c83bbff",
   "metadata": {},
   "outputs": [
    {
     "data": {
      "text/plain": [
       "['Pretoria, Transvaal, South Africa']"
      ]
     },
     "execution_count": 14,
     "metadata": {},
     "output_type": "execute_result"
    }
   ],
   "source": [
    "pattern7 = r\"\\(age.*\\n(.*)\"\n",
    "\n",
    "place = re.findall(pattern7, text)\n",
    "place"
   ]
  },
  {
   "cell_type": "markdown",
   "id": "2ea447f5-a101-4667-86c0-85f54f27530b",
   "metadata": {},
   "source": [
    "In pattern7, **\\(age.*\\n** finds (age and keeps going on from there till new line(**\\n**) and **(.*)** matches everything in the new line and makes it a group."
   ]
  },
  {
   "cell_type": "markdown",
   "id": "85432b57-bf2a-46eb-a675-c4f92328131d",
   "metadata": {},
   "source": [
    "**Instead of writing so many pattern many times, we can write a function and keep the pattern and text passing as a parameter**"
   ]
  },
  {
   "cell_type": "code",
   "execution_count": 17,
   "id": "380d6721-f237-42aa-8c8c-a171feb4368a",
   "metadata": {},
   "outputs": [],
   "source": [
    "def get_pattern_match(pattern, text):\n",
    "    matches = re.findall(pattern, text)\n",
    "    if matches:\n",
    "        return matches[0]"
   ]
  },
  {
   "cell_type": "code",
   "execution_count": 18,
   "id": "9cb23133-7db8-414a-862c-db6bc429ff58",
   "metadata": {},
   "outputs": [
    {
     "data": {
      "text/plain": [
       "'Pretoria, Transvaal, South Africa'"
      ]
     },
     "execution_count": 18,
     "metadata": {},
     "output_type": "execute_result"
    }
   ],
   "source": [
    "get_pattern_match(r\"\\(age.*\\n(.*)\", text)"
   ]
  },
  {
   "cell_type": "code",
   "execution_count": 20,
   "id": "e5eda5fa-cbbb-4690-aec7-a6225e13f3de",
   "metadata": {},
   "outputs": [
    {
     "name": "stderr",
     "output_type": "stream",
     "text": [
      "<>:2: SyntaxWarning: invalid escape sequence '\\d'\n",
      "<>:4: SyntaxWarning: invalid escape sequence '\\('\n",
      "<>:5: SyntaxWarning: invalid escape sequence '\\('\n",
      "<>:2: SyntaxWarning: invalid escape sequence '\\d'\n",
      "<>:4: SyntaxWarning: invalid escape sequence '\\('\n",
      "<>:5: SyntaxWarning: invalid escape sequence '\\('\n",
      "/tmp/ipykernel_1570/3783779278.py:2: SyntaxWarning: invalid escape sequence '\\d'\n",
      "  age = get_pattern_match('age (\\d+)', text)\n",
      "/tmp/ipykernel_1570/3783779278.py:4: SyntaxWarning: invalid escape sequence '\\('\n",
      "  birth_date = get_pattern_match('Born.*\\n(.*)\\(age', text)\n",
      "/tmp/ipykernel_1570/3783779278.py:5: SyntaxWarning: invalid escape sequence '\\('\n",
      "  birth_place = get_pattern_match('\\(age.*\\n(.*)', text)\n"
     ]
    }
   ],
   "source": [
    "def extract_personal_information(text):\n",
    "    age = get_pattern_match('age (\\d+)', text)\n",
    "    full_name = get_pattern_match('Born(.*)\\n', text)\n",
    "    birth_date = get_pattern_match('Born.*\\n(.*)\\(age', text)\n",
    "    birth_place = get_pattern_match('\\(age.*\\n(.*)', text)\n",
    "    return {\n",
    "        'age': int(age),\n",
    "        'name': full_name.strip(),\n",
    "        'birth_date': birth_date.strip(),\n",
    "        'birth_place': birth_place.strip()\n",
    "    }"
   ]
  },
  {
   "cell_type": "code",
   "execution_count": 21,
   "id": "a504d84f-f2ba-4e8b-b94c-276e7cbeb7a0",
   "metadata": {},
   "outputs": [
    {
     "data": {
      "text/plain": [
       "{'age': 50,\n",
       " 'name': 'Elon Reeve Musk',\n",
       " 'birth_date': 'June 28, 1971',\n",
       " 'birth_place': 'Pretoria, Transvaal, South Africa'}"
      ]
     },
     "execution_count": 21,
     "metadata": {},
     "output_type": "execute_result"
    }
   ],
   "source": [
    "extract_personal_information(text)"
   ]
  }
 ],
 "metadata": {
  "kernelspec": {
   "display_name": "Python 3 (ipykernel)",
   "language": "python",
   "name": "python3"
  },
  "language_info": {
   "codemirror_mode": {
    "name": "ipython",
    "version": 3
   },
   "file_extension": ".py",
   "mimetype": "text/x-python",
   "name": "python",
   "nbconvert_exporter": "python",
   "pygments_lexer": "ipython3",
   "version": "3.12.3"
  }
 },
 "nbformat": 4,
 "nbformat_minor": 5
}
